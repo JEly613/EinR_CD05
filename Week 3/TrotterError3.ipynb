{
 "cells": [
  {
   "cell_type": "code",
   "execution_count": 3,
   "id": "61db6b1f",
   "metadata": {},
   "outputs": [],
   "source": [
    "from qiskit import QuantumCircuit, transpile\n",
    "from qiskit_aer import Aer\n",
    "from qiskit.visualization import plot_histogram\n",
    "import matplotlib.pyplot as plt\n",
    "import numpy as np\n",
    "import scipy\n",
    "import functools as ft"
   ]
  },
  {
   "cell_type": "code",
   "execution_count": 20,
   "id": "0dcfd32a",
   "metadata": {},
   "outputs": [
    {
     "name": "stderr",
     "output_type": "stream",
     "text": [
      "/var/folders/bw/gsv3gt2x15sb89wp_ddgg1ph0000gn/T/ipykernel_15602/2225463243.py:29: RuntimeWarning: divide by zero encountered in matmul\n",
      "  U_Nt = np.matmul(U_Nt, u1)\n",
      "/var/folders/bw/gsv3gt2x15sb89wp_ddgg1ph0000gn/T/ipykernel_15602/2225463243.py:29: RuntimeWarning: overflow encountered in matmul\n",
      "  U_Nt = np.matmul(U_Nt, u1)\n",
      "/var/folders/bw/gsv3gt2x15sb89wp_ddgg1ph0000gn/T/ipykernel_15602/2225463243.py:29: RuntimeWarning: invalid value encountered in matmul\n",
      "  U_Nt = np.matmul(U_Nt, u1)\n",
      "/var/folders/bw/gsv3gt2x15sb89wp_ddgg1ph0000gn/T/ipykernel_15602/2225463243.py:30: RuntimeWarning: divide by zero encountered in matmul\n",
      "  U_Nt = np.matmul(U_Nt, u2)\n",
      "/var/folders/bw/gsv3gt2x15sb89wp_ddgg1ph0000gn/T/ipykernel_15602/2225463243.py:30: RuntimeWarning: overflow encountered in matmul\n",
      "  U_Nt = np.matmul(U_Nt, u2)\n",
      "/var/folders/bw/gsv3gt2x15sb89wp_ddgg1ph0000gn/T/ipykernel_15602/2225463243.py:30: RuntimeWarning: invalid value encountered in matmul\n",
      "  U_Nt = np.matmul(U_Nt, u2)\n",
      "/var/folders/bw/gsv3gt2x15sb89wp_ddgg1ph0000gn/T/ipykernel_15602/2225463243.py:31: RuntimeWarning: divide by zero encountered in matmul\n",
      "  U_Nt = np.matmul(U_Nt, u3)\n",
      "/var/folders/bw/gsv3gt2x15sb89wp_ddgg1ph0000gn/T/ipykernel_15602/2225463243.py:31: RuntimeWarning: overflow encountered in matmul\n",
      "  U_Nt = np.matmul(U_Nt, u3)\n",
      "/var/folders/bw/gsv3gt2x15sb89wp_ddgg1ph0000gn/T/ipykernel_15602/2225463243.py:31: RuntimeWarning: invalid value encountered in matmul\n",
      "  U_Nt = np.matmul(U_Nt, u3)\n",
      "/var/folders/bw/gsv3gt2x15sb89wp_ddgg1ph0000gn/T/ipykernel_15602/2225463243.py:32: RuntimeWarning: divide by zero encountered in matmul\n",
      "  U_Nt = np.matmul(U_Nt, u4)\n",
      "/var/folders/bw/gsv3gt2x15sb89wp_ddgg1ph0000gn/T/ipykernel_15602/2225463243.py:32: RuntimeWarning: overflow encountered in matmul\n",
      "  U_Nt = np.matmul(U_Nt, u4)\n",
      "/var/folders/bw/gsv3gt2x15sb89wp_ddgg1ph0000gn/T/ipykernel_15602/2225463243.py:32: RuntimeWarning: invalid value encountered in matmul\n",
      "  U_Nt = np.matmul(U_Nt, u4)\n",
      "/var/folders/bw/gsv3gt2x15sb89wp_ddgg1ph0000gn/T/ipykernel_15602/2225463243.py:33: RuntimeWarning: divide by zero encountered in matmul\n",
      "  U_Nt = np.matmul(U_Nt, u5)\n",
      "/var/folders/bw/gsv3gt2x15sb89wp_ddgg1ph0000gn/T/ipykernel_15602/2225463243.py:33: RuntimeWarning: overflow encountered in matmul\n",
      "  U_Nt = np.matmul(U_Nt, u5)\n",
      "/var/folders/bw/gsv3gt2x15sb89wp_ddgg1ph0000gn/T/ipykernel_15602/2225463243.py:33: RuntimeWarning: invalid value encountered in matmul\n",
      "  U_Nt = np.matmul(U_Nt, u5)\n",
      "/var/folders/bw/gsv3gt2x15sb89wp_ddgg1ph0000gn/T/ipykernel_15602/2225463243.py:34: RuntimeWarning: divide by zero encountered in matmul\n",
      "  U_Nt = np.matmul(U_Nt, u6)\n",
      "/var/folders/bw/gsv3gt2x15sb89wp_ddgg1ph0000gn/T/ipykernel_15602/2225463243.py:34: RuntimeWarning: overflow encountered in matmul\n",
      "  U_Nt = np.matmul(U_Nt, u6)\n",
      "/var/folders/bw/gsv3gt2x15sb89wp_ddgg1ph0000gn/T/ipykernel_15602/2225463243.py:34: RuntimeWarning: invalid value encountered in matmul\n",
      "  U_Nt = np.matmul(U_Nt, u6)\n"
     ]
    },
    {
     "data": {
      "image/png": "[encoded data removed]",
      "text/plain": [
       "<Figure size 640x480 with 1 Axes>"
      ]
     },
     "metadata": {},
     "output_type": "display_data"
    }
   ],
   "source": [
    "np.set_printoptions(threshold=np.inf)\n",
    "\n",
    "def error(N, t=10):\n",
    "    X = np.array([[0, 1], [1, 0]])\n",
    "    Y = np.array([[0, -1j], [1j, 0]])\n",
    "    I = np.identity(2)\n",
    "    \n",
    "    X1X2 = ft.reduce(np.kron, [X, X, I, I])\n",
    "    Y1Y2 = ft.reduce(np.kron, [Y, Y, I, I])\n",
    "    X2X3 = ft.reduce(np.kron, [I, X, X, I])\n",
    "    Y2Y3 = ft.reduce(np.kron, [I, Y, Y, I])\n",
    "    X3X4 = ft.reduce(np.kron, [I, I, X, X])\n",
    "    Y3Y4 = ft.reduce(np.kron, [I, I, Y, Y])\n",
    "\n",
    "    H = X1X2 + Y1Y2 + X2X3 + Y2Y3 + X3X4 + Y3Y4\n",
    "\n",
    "    time_evol_op = scipy.linalg.expm(-1j * t * H)\n",
    "\n",
    "    # U_N(t) = (e^{-i t/N X1X2 }e^{-i t/N Y1Y2 }e^{-i t/N X2X3 }e^{-i t/N Y2Y3 }e^{-i t/N X3X4 }e^{-i t/N Y3Y4 })^N.\n",
    "    \n",
    "    U_Nt = np.identity(16, dtype=complex)\n",
    "    u1 = scipy.linalg.expm(-1j * t/N * X1X2)\n",
    "    u2 = scipy.linalg.expm(-1j * t/N * Y1Y2)\n",
    "    u3 = scipy.linalg.expm(-1j * t/N * X2X3)\n",
    "    u4 = scipy.linalg.expm(-1j * t/N * Y2Y3)\n",
    "    u5 = scipy.linalg.expm(-1j * t/N * X3X4)\n",
    "    u6 = scipy.linalg.expm(-1j * t/N * Y3Y4)\n",
    "    for _ in range(N):\n",
    "        U_Nt = np.matmul(U_Nt, u1)\n",
    "        U_Nt = np.matmul(U_Nt, u2)\n",
    "        U_Nt = np.matmul(U_Nt, u3)\n",
    "        U_Nt = np.matmul(U_Nt, u4)\n",
    "        U_Nt = np.matmul(U_Nt, u5)\n",
    "        U_Nt = np.matmul(U_Nt, u6)\n",
    "\n",
    "    return scipy.linalg.norm(time_evol_op - U_Nt)\n",
    "\n",
    "all = []\n",
    "n_values = range(50, 1001, 50)\n",
    "for n in n_values:\n",
    "    all.append(error(n))\n",
    "plt.plot(n_values, all, marker='o')\n",
    "plt.xlabel('N')\n",
    "plt.ylabel('Error')\n",
    "plt.title('Trotter Error vs N')\n",
    "plt.grid()\n",
    "plt.show()"
   ]
  }
 ],
 "metadata": {
  "kernelspec": {
   "display_name": "einr",
   "language": "python",
   "name": "python3"
  },
  "language_info": {
   "codemirror_mode": {
    "name": "ipython",
    "version": 3
   },
   "file_extension": ".py",
   "mimetype": "text/x-python",
   "name": "python",
   "nbconvert_exporter": "python",
   "pygments_lexer": "ipython3",
   "version": "3.13.5"
  }
 },
 "nbformat": 4,
 "nbformat_minor": 5
}
