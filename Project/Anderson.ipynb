{
 "cells": [
  {
   "cell_type": "code",
   "execution_count": 93,
   "id": "b17a88d3",
   "metadata": {},
   "outputs": [],
   "source": [
    "from qiskit import QuantumCircuit, transpile\n",
    "from qiskit_aer import Aer\n",
    "from qiskit.visualization import plot_histogram\n",
    "import matplotlib.pyplot as plt\n",
    "import numpy as np\n",
    "import scipy\n",
    "import functools as ft\n",
    "import random\n",
    "\n",
    "X = np.array([[0, 1], [1, 0]])\n",
    "Y = np.array([[0, -1j], [1j, 0]])\n",
    "Z = np.array([[1, 0], [0, -1]])\n",
    "I = np.identity(2)"
   ]
  },
  {
   "cell_type": "code",
   "execution_count": 94,
   "id": "a6644a65",
   "metadata": {},
   "outputs": [],
   "source": [
    "n = 10\n",
    "b = [random.random()*3 for _ in range(n)]\n",
    "\n",
    "def get_gi(gate, i, get_gi1=False):\n",
    "    gates = []\n",
    "    for j in range(n):\n",
    "        if j == i or (j == i+1 and get_gi1):\n",
    "            gates.append(gate)\n",
    "        else:\n",
    "            gates.append(I)\n",
    "    return ft.reduce(np.kron, gates)\n",
    "\n",
    "h1 = sum((get_gi(X, i, True) + get_gi(Y, i, True)) for i in range(n-1))\n",
    "\n",
    "h2 = sum((b[i] * get_gi(Z, i)) for i in range(n))\n",
    "\n",
    "h = h1 + h2\n",
    "\n",
    "def u(t):\n",
    "    return scipy.linalg.expm(-1j * h * t)\n",
    "\n",
    "#print(h1)\n",
    "#print(h)"
   ]
  },
  {
   "cell_type": "code",
   "execution_count": 95,
   "id": "08bbea29",
   "metadata": {},
   "outputs": [
    {
     "name": "stdout",
     "output_type": "stream",
     "text": [
      "0000000001\n",
      "0000000010\n",
      "0000000100\n",
      "0000001000\n",
      "0000000100\n",
      "0000000001\n",
      "0000000001\n",
      "0000000010\n",
      "0000001000\n",
      "0000000100\n",
      "0000000001\n",
      "0000000001\n",
      "0000000010\n",
      "0000001000\n",
      "0000000010\n",
      "0000000001\n",
      "0000000001\n",
      "0000000100\n",
      "0000001000\n",
      "0000000100\n"
     ]
    }
   ],
   "source": [
    "simulator = Aer.get_backend('aer_simulator')\n",
    "\n",
    "for i in np.arange(0, 10, .5):\n",
    "    qc = QuantumCircuit(n)\n",
    "    qc.x(0) # create |100...0> state\n",
    "\n",
    "    qc.unitary(u(i), range(n))\n",
    "    qc.measure_all()\n",
    "\n",
    "    compiled_circuit = transpile(qc, simulator)\n",
    "    job = simulator.run(compiled_circuit, shots=1000)\n",
    "    result = job.result()\n",
    "    counts = result.get_counts()\n",
    "\n",
    "    print(counts.most_frequent())"
   ]
  }
 ],
 "metadata": {
  "kernelspec": {
   "display_name": "einr",
   "language": "python",
   "name": "python3"
  },
  "language_info": {
   "codemirror_mode": {
    "name": "ipython",
    "version": 3
   },
   "file_extension": ".py",
   "mimetype": "text/x-python",
   "name": "python",
   "nbconvert_exporter": "python",
   "pygments_lexer": "ipython3",
   "version": "3.13.5"
  }
 },
 "nbformat": 4,
 "nbformat_minor": 5
}
